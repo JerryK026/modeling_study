{
 "cells": [
  {
   "cell_type": "code",
   "execution_count": 2,
   "metadata": {
    "scrolled": true
   },
   "outputs": [
    {
     "data": {
      "text/html": [
       "<div>\n",
       "<style scoped>\n",
       "    .dataframe tbody tr th:only-of-type {\n",
       "        vertical-align: middle;\n",
       "    }\n",
       "\n",
       "    .dataframe tbody tr th {\n",
       "        vertical-align: top;\n",
       "    }\n",
       "\n",
       "    .dataframe thead th {\n",
       "        text-align: right;\n",
       "    }\n",
       "</style>\n",
       "<table border=\"1\" class=\"dataframe\">\n",
       "  <thead>\n",
       "    <tr style=\"text-align: right;\">\n",
       "      <th></th>\n",
       "      <th>id</th>\n",
       "      <th>name</th>\n",
       "      <th>date</th>\n",
       "      <th>manner_of_death</th>\n",
       "      <th>armed</th>\n",
       "      <th>age</th>\n",
       "      <th>gender</th>\n",
       "      <th>race</th>\n",
       "      <th>city</th>\n",
       "      <th>state</th>\n",
       "      <th>signs_of_mental_illness</th>\n",
       "      <th>threat_level</th>\n",
       "      <th>flee</th>\n",
       "      <th>body_camera</th>\n",
       "    </tr>\n",
       "  </thead>\n",
       "  <tbody>\n",
       "    <tr>\n",
       "      <th>0</th>\n",
       "      <td>3</td>\n",
       "      <td>Tim Elliot</td>\n",
       "      <td>2015-01-02</td>\n",
       "      <td>shot</td>\n",
       "      <td>gun</td>\n",
       "      <td>53.0</td>\n",
       "      <td>M</td>\n",
       "      <td>A</td>\n",
       "      <td>Shelton</td>\n",
       "      <td>WA</td>\n",
       "      <td>True</td>\n",
       "      <td>attack</td>\n",
       "      <td>Not fleeing</td>\n",
       "      <td>False</td>\n",
       "    </tr>\n",
       "    <tr>\n",
       "      <th>1</th>\n",
       "      <td>4</td>\n",
       "      <td>Lewis Lee Lembke</td>\n",
       "      <td>2015-01-02</td>\n",
       "      <td>shot</td>\n",
       "      <td>gun</td>\n",
       "      <td>47.0</td>\n",
       "      <td>M</td>\n",
       "      <td>W</td>\n",
       "      <td>Aloha</td>\n",
       "      <td>OR</td>\n",
       "      <td>False</td>\n",
       "      <td>attack</td>\n",
       "      <td>Not fleeing</td>\n",
       "      <td>False</td>\n",
       "    </tr>\n",
       "    <tr>\n",
       "      <th>2</th>\n",
       "      <td>5</td>\n",
       "      <td>John Paul Quintero</td>\n",
       "      <td>2015-01-03</td>\n",
       "      <td>shot and Tasered</td>\n",
       "      <td>unarmed</td>\n",
       "      <td>23.0</td>\n",
       "      <td>M</td>\n",
       "      <td>H</td>\n",
       "      <td>Wichita</td>\n",
       "      <td>KS</td>\n",
       "      <td>False</td>\n",
       "      <td>other</td>\n",
       "      <td>Not fleeing</td>\n",
       "      <td>False</td>\n",
       "    </tr>\n",
       "    <tr>\n",
       "      <th>3</th>\n",
       "      <td>8</td>\n",
       "      <td>Matthew Hoffman</td>\n",
       "      <td>2015-01-04</td>\n",
       "      <td>shot</td>\n",
       "      <td>toy weapon</td>\n",
       "      <td>32.0</td>\n",
       "      <td>M</td>\n",
       "      <td>W</td>\n",
       "      <td>San Francisco</td>\n",
       "      <td>CA</td>\n",
       "      <td>True</td>\n",
       "      <td>attack</td>\n",
       "      <td>Not fleeing</td>\n",
       "      <td>False</td>\n",
       "    </tr>\n",
       "    <tr>\n",
       "      <th>4</th>\n",
       "      <td>9</td>\n",
       "      <td>Michael Rodriguez</td>\n",
       "      <td>2015-01-04</td>\n",
       "      <td>shot</td>\n",
       "      <td>nail gun</td>\n",
       "      <td>39.0</td>\n",
       "      <td>M</td>\n",
       "      <td>H</td>\n",
       "      <td>Evans</td>\n",
       "      <td>CO</td>\n",
       "      <td>False</td>\n",
       "      <td>attack</td>\n",
       "      <td>Not fleeing</td>\n",
       "      <td>False</td>\n",
       "    </tr>\n",
       "    <tr>\n",
       "      <th>...</th>\n",
       "      <td>...</td>\n",
       "      <td>...</td>\n",
       "      <td>...</td>\n",
       "      <td>...</td>\n",
       "      <td>...</td>\n",
       "      <td>...</td>\n",
       "      <td>...</td>\n",
       "      <td>...</td>\n",
       "      <td>...</td>\n",
       "      <td>...</td>\n",
       "      <td>...</td>\n",
       "      <td>...</td>\n",
       "      <td>...</td>\n",
       "      <td>...</td>\n",
       "    </tr>\n",
       "    <tr>\n",
       "      <th>5411</th>\n",
       "      <td>5921</td>\n",
       "      <td>William Slyter</td>\n",
       "      <td>2020-06-13</td>\n",
       "      <td>shot</td>\n",
       "      <td>gun</td>\n",
       "      <td>22.0</td>\n",
       "      <td>M</td>\n",
       "      <td>W</td>\n",
       "      <td>Kansas City</td>\n",
       "      <td>MO</td>\n",
       "      <td>False</td>\n",
       "      <td>other</td>\n",
       "      <td>Other</td>\n",
       "      <td>False</td>\n",
       "    </tr>\n",
       "    <tr>\n",
       "      <th>5412</th>\n",
       "      <td>5922</td>\n",
       "      <td>TK TK</td>\n",
       "      <td>2020-06-13</td>\n",
       "      <td>shot</td>\n",
       "      <td>undetermined</td>\n",
       "      <td>NaN</td>\n",
       "      <td>M</td>\n",
       "      <td>NaN</td>\n",
       "      <td>San Bernardino</td>\n",
       "      <td>CA</td>\n",
       "      <td>False</td>\n",
       "      <td>attack</td>\n",
       "      <td>Not fleeing</td>\n",
       "      <td>False</td>\n",
       "    </tr>\n",
       "    <tr>\n",
       "      <th>5413</th>\n",
       "      <td>5924</td>\n",
       "      <td>Nicholas Hirsh</td>\n",
       "      <td>2020-06-15</td>\n",
       "      <td>shot</td>\n",
       "      <td>gun</td>\n",
       "      <td>31.0</td>\n",
       "      <td>M</td>\n",
       "      <td>W</td>\n",
       "      <td>Lawrence</td>\n",
       "      <td>KS</td>\n",
       "      <td>False</td>\n",
       "      <td>attack</td>\n",
       "      <td>Car</td>\n",
       "      <td>False</td>\n",
       "    </tr>\n",
       "    <tr>\n",
       "      <th>5414</th>\n",
       "      <td>5926</td>\n",
       "      <td>TK TK</td>\n",
       "      <td>2020-06-16</td>\n",
       "      <td>shot</td>\n",
       "      <td>gun</td>\n",
       "      <td>24.0</td>\n",
       "      <td>M</td>\n",
       "      <td>NaN</td>\n",
       "      <td>Beach Park</td>\n",
       "      <td>IL</td>\n",
       "      <td>False</td>\n",
       "      <td>attack</td>\n",
       "      <td>Not fleeing</td>\n",
       "      <td>False</td>\n",
       "    </tr>\n",
       "    <tr>\n",
       "      <th>5415</th>\n",
       "      <td>5927</td>\n",
       "      <td>TK TK</td>\n",
       "      <td>2020-06-16</td>\n",
       "      <td>shot</td>\n",
       "      <td>gun</td>\n",
       "      <td>27.0</td>\n",
       "      <td>M</td>\n",
       "      <td>NaN</td>\n",
       "      <td>Phoenix</td>\n",
       "      <td>AZ</td>\n",
       "      <td>False</td>\n",
       "      <td>attack</td>\n",
       "      <td>Not fleeing</td>\n",
       "      <td>False</td>\n",
       "    </tr>\n",
       "  </tbody>\n",
       "</table>\n",
       "<p>5416 rows × 14 columns</p>\n",
       "</div>"
      ],
      "text/plain": [
       "        id                name        date   manner_of_death         armed  \\\n",
       "0        3          Tim Elliot  2015-01-02              shot           gun   \n",
       "1        4    Lewis Lee Lembke  2015-01-02              shot           gun   \n",
       "2        5  John Paul Quintero  2015-01-03  shot and Tasered       unarmed   \n",
       "3        8     Matthew Hoffman  2015-01-04              shot    toy weapon   \n",
       "4        9   Michael Rodriguez  2015-01-04              shot      nail gun   \n",
       "...    ...                 ...         ...               ...           ...   \n",
       "5411  5921      William Slyter  2020-06-13              shot           gun   \n",
       "5412  5922               TK TK  2020-06-13              shot  undetermined   \n",
       "5413  5924      Nicholas Hirsh  2020-06-15              shot           gun   \n",
       "5414  5926               TK TK  2020-06-16              shot           gun   \n",
       "5415  5927               TK TK  2020-06-16              shot           gun   \n",
       "\n",
       "       age gender race            city state  signs_of_mental_illness  \\\n",
       "0     53.0      M    A         Shelton    WA                     True   \n",
       "1     47.0      M    W           Aloha    OR                    False   \n",
       "2     23.0      M    H         Wichita    KS                    False   \n",
       "3     32.0      M    W   San Francisco    CA                     True   \n",
       "4     39.0      M    H           Evans    CO                    False   \n",
       "...    ...    ...  ...             ...   ...                      ...   \n",
       "5411  22.0      M    W     Kansas City    MO                    False   \n",
       "5412   NaN      M  NaN  San Bernardino    CA                    False   \n",
       "5413  31.0      M    W        Lawrence    KS                    False   \n",
       "5414  24.0      M  NaN      Beach Park    IL                    False   \n",
       "5415  27.0      M  NaN         Phoenix    AZ                    False   \n",
       "\n",
       "     threat_level         flee  body_camera  \n",
       "0          attack  Not fleeing        False  \n",
       "1          attack  Not fleeing        False  \n",
       "2           other  Not fleeing        False  \n",
       "3          attack  Not fleeing        False  \n",
       "4          attack  Not fleeing        False  \n",
       "...           ...          ...          ...  \n",
       "5411        other        Other        False  \n",
       "5412       attack  Not fleeing        False  \n",
       "5413       attack          Car        False  \n",
       "5414       attack  Not fleeing        False  \n",
       "5415       attack  Not fleeing        False  \n",
       "\n",
       "[5416 rows x 14 columns]"
      ]
     },
     "execution_count": 2,
     "metadata": {},
     "output_type": "execute_result"
    }
   ],
   "source": [
    "import numpy as np\n",
    "import pandas as pd\n",
    "import matplotlib.pyplot as plt\n",
    "\n",
    "data = pd.read_csv('./fatal-police-shootings-data.csv')\n",
    "data"
   ]
  },
  {
   "cell_type": "code",
   "execution_count": 3,
   "metadata": {},
   "outputs": [
    {
     "name": "stdout",
     "output_type": "stream",
     "text": [
      "<class 'pandas.core.frame.DataFrame'>\n",
      "RangeIndex: 5416 entries, 0 to 5415\n",
      "Data columns (total 14 columns):\n",
      " #   Column                   Non-Null Count  Dtype  \n",
      "---  ------                   --------------  -----  \n",
      " 0   id                       5416 non-null   int64  \n",
      " 1   name                     5416 non-null   object \n",
      " 2   date                     5416 non-null   object \n",
      " 3   manner_of_death          5416 non-null   object \n",
      " 4   armed                    5189 non-null   object \n",
      " 5   age                      5181 non-null   float64\n",
      " 6   gender                   5414 non-null   object \n",
      " 7   race                     4895 non-null   object \n",
      " 8   city                     5416 non-null   object \n",
      " 9   state                    5416 non-null   object \n",
      " 10  signs_of_mental_illness  5416 non-null   bool   \n",
      " 11  threat_level             5416 non-null   object \n",
      " 12  flee                     5167 non-null   object \n",
      " 13  body_camera              5416 non-null   bool   \n",
      "dtypes: bool(2), float64(1), int64(1), object(10)\n",
      "memory usage: 518.5+ KB\n"
     ]
    }
   ],
   "source": [
    "data.info()"
   ]
  },
  {
   "cell_type": "markdown",
   "metadata": {},
   "source": [
    "데이터 유형들을 들여다 봤을 때, id는 int, age는 float, signs_of_mental_illness, body_camera는 bool인 것을 확인."
   ]
  },
  {
   "cell_type": "code",
   "execution_count": 4,
   "metadata": {
    "scrolled": false
   },
   "outputs": [
    {
     "data": {
      "text/plain": [
       "id                           0\n",
       "name                         0\n",
       "date                         0\n",
       "manner_of_death              0\n",
       "armed                      227\n",
       "age                        235\n",
       "gender                       2\n",
       "race                       521\n",
       "city                         0\n",
       "state                        0\n",
       "signs_of_mental_illness      0\n",
       "threat_level                 0\n",
       "flee                       249\n",
       "body_camera                  0\n",
       "dtype: int64"
      ]
     },
     "execution_count": 4,
     "metadata": {},
     "output_type": "execute_result"
    }
   ],
   "source": [
    "data.isnull().sum()"
   ]
  },
  {
   "cell_type": "markdown",
   "metadata": {},
   "source": [
    "armed, age, gender, race, flee에 결측값이 있다는 것 또한 확인."
   ]
  },
  {
   "cell_type": "code",
   "execution_count": 5,
   "metadata": {
    "scrolled": true
   },
   "outputs": [
    {
     "name": "stderr",
     "output_type": "stream",
     "text": [
      "C:\\Users\\SeoKyung\\Anaconda3\\lib\\site-packages\\ipykernel_launcher.py:10: SettingWithCopyWarning: \n",
      "A value is trying to be set on a copy of a slice from a DataFrame\n",
      "\n",
      "See the caveats in the documentation: https://pandas.pydata.org/pandas-docs/stable/user_guide/indexing.html#returning-a-view-versus-a-copy\n",
      "  # Remove the CWD from sys.path while we load stuff.\n"
     ]
    }
   ],
   "source": [
    "age = np.array(data['age'])\n",
    "null_age_index = np.where(np.isnan(data['age']))\n",
    "null_age_index = null_age_index[0]\n",
    "\n",
    "mean_age = int(np.mean(data['age']))\n",
    "\n",
    "\n",
    "\n",
    "for i in range(len(null_age_index)):\n",
    "    data['age'][null_age_index[i]] = mean_age"
   ]
  },
  {
   "cell_type": "markdown",
   "metadata": {},
   "source": [
    "age는 평균 값으로 결측값을 채워줬다. np.where은 2차원으로 반환되기 때문에 null_age_index[0]으로 처리를 해준다."
   ]
  },
  {
   "cell_type": "code",
   "execution_count": 6,
   "metadata": {},
   "outputs": [
    {
     "data": {
      "text/plain": [
       "M    5176\n",
       "F     238\n",
       "Name: gender, dtype: int64"
      ]
     },
     "execution_count": 6,
     "metadata": {},
     "output_type": "execute_result"
    }
   ],
   "source": [
    "data['gender'].value_counts()"
   ]
  },
  {
   "cell_type": "markdown",
   "metadata": {},
   "source": [
    "value_counts()를 이용해 gender가 들어있는 유형과 갯수를 파악. M이 훨씬 많은걸 확인하고 결측값을 M으로 채우기로 결정"
   ]
  },
  {
   "cell_type": "code",
   "execution_count": 7,
   "metadata": {},
   "outputs": [
    {
     "name": "stderr",
     "output_type": "stream",
     "text": [
      "C:\\Users\\SeoKyung\\Anaconda3\\lib\\site-packages\\ipykernel_launcher.py:6: SettingWithCopyWarning: \n",
      "A value is trying to be set on a copy of a slice from a DataFrame\n",
      "\n",
      "See the caveats in the documentation: https://pandas.pydata.org/pandas-docs/stable/user_guide/indexing.html#returning-a-view-versus-a-copy\n",
      "  \n"
     ]
    }
   ],
   "source": [
    "gender = np.array(data['gender'])\n",
    "null_gender_index = np.where(data['gender'].isnull())\n",
    "null_gender_index = null_gender_index[0]\n",
    "\n",
    "for i in range(len(null_gender_index)):\n",
    "    data['gender'][null_gender_index[i]] = 'M'"
   ]
  },
  {
   "cell_type": "code",
   "execution_count": 8,
   "metadata": {
    "scrolled": true
   },
   "outputs": [
    {
     "data": {
      "text/plain": [
       "W    2476\n",
       "B    1298\n",
       "H     902\n",
       "A      93\n",
       "N      78\n",
       "O      48\n",
       "Name: race, dtype: int64"
      ]
     },
     "execution_count": 8,
     "metadata": {},
     "output_type": "execute_result"
    }
   ],
   "source": [
    "data['race'].value_counts()"
   ]
  },
  {
   "cell_type": "markdown",
   "metadata": {},
   "source": [
    "race의 종류는 6개. 결측값은 521개. 데이터의 수는 5416개. 데이터들 중, 약 절반은 W고 4분의 1은 B, 4분의 1은 H인걸 감안해서 데이터를 집어넣기로 결정."
   ]
  },
  {
   "cell_type": "code",
   "execution_count": 9,
   "metadata": {},
   "outputs": [
    {
     "name": "stderr",
     "output_type": "stream",
     "text": [
      "C:\\Users\\SeoKyung\\Anaconda3\\lib\\site-packages\\ipykernel_launcher.py:9: SettingWithCopyWarning: \n",
      "A value is trying to be set on a copy of a slice from a DataFrame\n",
      "\n",
      "See the caveats in the documentation: https://pandas.pydata.org/pandas-docs/stable/user_guide/indexing.html#returning-a-view-versus-a-copy\n",
      "  if __name__ == '__main__':\n"
     ]
    }
   ],
   "source": [
    "race = np.array(data['race'])\n",
    "null_race_index = np.where(data['race'].isnull())\n",
    "null_race_index = null_race_index[0]\n",
    "\n",
    "race_data_for_null = ['W','W','B','H']\n",
    "race_data_for_null = np.array(race_data_for_null)\n",
    "\n",
    "for i in range(len(null_race_index)):\n",
    "    data['race'][null_race_index] = race_data_for_null[i % 4]"
   ]
  },
  {
   "cell_type": "code",
   "execution_count": 10,
   "metadata": {
    "scrolled": true
   },
   "outputs": [
    {
     "data": {
      "text/plain": [
       "id                           0\n",
       "name                         0\n",
       "date                         0\n",
       "manner_of_death              0\n",
       "armed                      227\n",
       "age                          0\n",
       "gender                       0\n",
       "race                         0\n",
       "city                         0\n",
       "state                        0\n",
       "signs_of_mental_illness      0\n",
       "threat_level                 0\n",
       "flee                       249\n",
       "body_camera                  0\n",
       "dtype: int64"
      ]
     },
     "execution_count": 10,
     "metadata": {},
     "output_type": "execute_result"
    }
   ],
   "source": [
    "data.isnull().sum()"
   ]
  },
  {
   "cell_type": "code",
   "execution_count": 11,
   "metadata": {},
   "outputs": [
    {
     "data": {
      "text/plain": [
       "Not fleeing    3411\n",
       "Car             900\n",
       "Foot            692\n",
       "Other           164\n",
       "Name: flee, dtype: int64"
      ]
     },
     "execution_count": 11,
     "metadata": {},
     "output_type": "execute_result"
    }
   ],
   "source": [
    "data['flee'].value_counts()"
   ]
  },
  {
   "cell_type": "markdown",
   "metadata": {},
   "source": [
    "도망 수단의 비율은 약5500개 데이터 중, 약 3400개가 도망치지 않음, 900개가 자동차, 700개가 도망감이다. 이를 비율로 나타내면 대략\n",
    "6:2:2 = 3:1:1정도가 될 것이다."
   ]
  },
  {
   "cell_type": "code",
   "execution_count": 12,
   "metadata": {},
   "outputs": [
    {
     "name": "stderr",
     "output_type": "stream",
     "text": [
      "C:\\Users\\SeoKyung\\Anaconda3\\lib\\site-packages\\ipykernel_launcher.py:9: SettingWithCopyWarning: \n",
      "A value is trying to be set on a copy of a slice from a DataFrame\n",
      "\n",
      "See the caveats in the documentation: https://pandas.pydata.org/pandas-docs/stable/user_guide/indexing.html#returning-a-view-versus-a-copy\n",
      "  if __name__ == '__main__':\n"
     ]
    }
   ],
   "source": [
    "flee = np.array(data['flee'])\n",
    "null_flee_index = np.where(data['flee'].isnull())\n",
    "null_flee_index = null_flee_index[0]\n",
    "\n",
    "flee_data_for_null = ['Not fleeing','Not fleeing','Not fleeing','Car', 'Foot']\n",
    "flee_data_for_null = np.array(flee_data_for_null)\n",
    "\n",
    "for i in range(len(null_flee_index)):\n",
    "    data['flee'][null_flee_index] = flee_data_for_null[i % 5]"
   ]
  },
  {
   "cell_type": "code",
   "execution_count": 13,
   "metadata": {},
   "outputs": [
    {
     "data": {
      "text/plain": [
       "gun                    3060\n",
       "knife                   792\n",
       "unarmed                 353\n",
       "toy weapon              186\n",
       "undetermined            164\n",
       "                       ... \n",
       "hand torch                1\n",
       "cordless drill            1\n",
       "motorcycle                1\n",
       "car, knife and mace       1\n",
       "wasp spray                1\n",
       "Name: armed, Length: 93, dtype: int64"
      ]
     },
     "execution_count": 13,
     "metadata": {},
     "output_type": "execute_result"
    }
   ],
   "source": [
    "data['armed'].value_counts()"
   ]
  },
  {
   "cell_type": "markdown",
   "metadata": {},
   "source": [
    "무장한 장비 데이터를 들여다 봤을 때, 5416개의 데이터 중 절반 이상이 gun이고, 800개 가량이 knife, unarmed가 400개 가량인 걸 확인.\n",
    "30:8:4 = 15:4:2 = 약 8:2:1이므로 이를 순서대로 넣어준다."
   ]
  },
  {
   "cell_type": "code",
   "execution_count": 14,
   "metadata": {
    "scrolled": true
   },
   "outputs": [
    {
     "name": "stderr",
     "output_type": "stream",
     "text": [
      "C:\\Users\\SeoKyung\\Anaconda3\\lib\\site-packages\\ipykernel_launcher.py:22: SettingWithCopyWarning: \n",
      "A value is trying to be set on a copy of a slice from a DataFrame\n",
      "\n",
      "See the caveats in the documentation: https://pandas.pydata.org/pandas-docs/stable/user_guide/indexing.html#returning-a-view-versus-a-copy\n"
     ]
    }
   ],
   "source": [
    "armed = np.array(data['armed'])\n",
    "null_armed_index = np.where(data['armed'].isnull())\n",
    "null_armed_index = null_armed_index[0]\n",
    "\n",
    "armed_data_for_null = []\n",
    "# race_data_for_null[0:8:10:11] = ['gun', 'knife', 'unarmed'] 이런 문법은 안 되나?\n",
    "for i in range(0,8):\n",
    "    armed_data_for_null.append('gun')\n",
    "\n",
    "# temp = ['knife', 'knife', 'unarmed']\n",
    "# armed_data_for_null.append(temp) \n",
    "# 이렇게 하니까 ([], list()) 값이 이런 식으로 들어가서 제대로 안 들어갔다.\n",
    "\n",
    "armed_data_for_null.append('knife')\n",
    "armed_data_for_null.append('knife')\n",
    "armed_data_for_null.append('unarmed')\n",
    "\n",
    "armed_data_for_null = np.array(armed_data_for_null)\n",
    "\n",
    "# TypeError: object of type 'numpy.int64' has no len() 때문에 고생중\n",
    "for i in range(len(null_armed_index)):\n",
    "    data['armed'][null_armed_index] = armed_data_for_null[i % 11]"
   ]
  },
  {
   "cell_type": "code",
   "execution_count": 15,
   "metadata": {},
   "outputs": [
    {
     "data": {
      "text/plain": [
       "id                         0\n",
       "name                       0\n",
       "date                       0\n",
       "manner_of_death            0\n",
       "armed                      0\n",
       "age                        0\n",
       "gender                     0\n",
       "race                       0\n",
       "city                       0\n",
       "state                      0\n",
       "signs_of_mental_illness    0\n",
       "threat_level               0\n",
       "flee                       0\n",
       "body_camera                0\n",
       "dtype: int64"
      ]
     },
     "execution_count": 15,
     "metadata": {},
     "output_type": "execute_result"
    }
   ],
   "source": [
    "data.isnull().sum()"
   ]
  },
  {
   "cell_type": "code",
   "execution_count": 16,
   "metadata": {},
   "outputs": [
    {
     "data": {
      "text/plain": [
       "shot                5146\n",
       "shot and Tasered     270\n",
       "Name: manner_of_death, dtype: int64"
      ]
     },
     "execution_count": 16,
     "metadata": {},
     "output_type": "execute_result"
    }
   ],
   "source": [
    "data['manner_of_death'].value_counts()"
   ]
  },
  {
   "cell_type": "code",
   "execution_count": 17,
   "metadata": {},
   "outputs": [],
   "source": [
    "shot = np.where(data['manner_of_death'] == 'shot')\n",
    "shot_and_tasered = np.where(data['manner_of_death'] == 'shot and Tasered')"
   ]
  },
  {
   "cell_type": "markdown",
   "metadata": {},
   "source": [
    "shot_kinds에 뭐가 들어있는지 확인하고 두 종류인 걸 봐서 각각 인덱스 데이터만 담는다."
   ]
  },
  {
   "cell_type": "code",
   "execution_count": 18,
   "metadata": {},
   "outputs": [
    {
     "data": {
      "image/png": "[encoded data removed]",
      "text/plain": [
       "<Figure size 432x288 with 1 Axes>"
      ]
     },
     "metadata": {
      "needs_background": "light"
     },
     "output_type": "display_data"
    },
    {
     "name": "stdout",
     "output_type": "stream",
     "text": [
      "shot rate :  0.95\n",
      "shot and Taserd :  0.05\n"
     ]
    }
   ],
   "source": [
    "import seaborn\n",
    "\n",
    "seaborn.countplot(x=\"manner_of_death\", data = data)\n",
    "plt.show()\n",
    "print(\"shot rate : \", np.round(len(shot[0]) / len(data['manner_of_death']), 3))\n",
    "print(\"shot and Taserd : \", np.round(len(shot_and_tasered[0]) / len(data['manner_of_death']), 3))"
   ]
  },
  {
   "cell_type": "markdown",
   "metadata": {},
   "source": [
    "countplot(x=\"column_name\", data=dataframe)\n",
    "plt.show()\n",
    "을 이용해서 시각화 한다.\n",
    "round(,3)\n",
    "이렇게 하면 세번째 자리에서 반올림 해서 보여준다."
   ]
  },
  {
   "cell_type": "code",
   "execution_count": 19,
   "metadata": {},
   "outputs": [
    {
     "data": {
      "text/plain": [
       "Los Angeles             85\n",
       "Phoenix                 78\n",
       "Houston                 57\n",
       "Las Vegas               45\n",
       "San Antonio             43\n",
       "                        ..\n",
       "Angel Fire               1\n",
       "Barrow                   1\n",
       "East Flat Rock           1\n",
       "Irvington                1\n",
       "Gardnerville Ranchos     1\n",
       "Name: city, Length: 2470, dtype: int64"
      ]
     },
     "execution_count": 19,
     "metadata": {},
     "output_type": "execute_result"
    }
   ],
   "source": [
    "data['city'].value_counts()"
   ]
  },
  {
   "cell_type": "code",
   "execution_count": 20,
   "metadata": {},
   "outputs": [
    {
     "data": {
      "text/plain": [
       "CA    799\n",
       "TX    481\n",
       "FL    350\n",
       "AZ    254\n",
       "CO    195\n",
       "Name: state, dtype: int64"
      ]
     },
     "execution_count": 20,
     "metadata": {},
     "output_type": "execute_result"
    }
   ],
   "source": [
    "data['state'].value_counts().head()"
   ]
  },
  {
   "cell_type": "code",
   "execution_count": 21,
   "metadata": {},
   "outputs": [
    {
     "data": {
      "text/plain": [
       "False    4200\n",
       "True     1216\n",
       "Name: signs_of_mental_illness, dtype: int64"
      ]
     },
     "execution_count": 21,
     "metadata": {},
     "output_type": "execute_result"
    }
   ],
   "source": [
    "data['signs_of_mental_illness'].value_counts()"
   ]
  },
  {
   "cell_type": "code",
   "execution_count": 22,
   "metadata": {},
   "outputs": [
    {
     "data": {
      "text/plain": [
       "attack          3495\n",
       "other           1682\n",
       "undetermined     239\n",
       "Name: threat_level, dtype: int64"
      ]
     },
     "execution_count": 22,
     "metadata": {},
     "output_type": "execute_result"
    }
   ],
   "source": [
    "data['threat_level'].value_counts()"
   ]
  },
  {
   "cell_type": "code",
   "execution_count": 23,
   "metadata": {},
   "outputs": [
    {
     "data": {
      "text/plain": [
       "False    4798\n",
       "True      618\n",
       "Name: body_camera, dtype: int64"
      ]
     },
     "execution_count": 23,
     "metadata": {},
     "output_type": "execute_result"
    }
   ],
   "source": [
    "data['body_camera'].value_counts()"
   ]
  },
  {
   "cell_type": "code",
   "execution_count": 24,
   "metadata": {},
   "outputs": [
    {
     "data": {
      "image/png": "[encoded data removed]",
      "text/plain": [
       "<Figure size 720x360 with 1 Axes>"
      ]
     },
     "metadata": {
      "needs_background": "light"
     },
     "output_type": "display_data"
    },
    {
     "data": {
      "text/plain": [
       "<function matplotlib.pyplot.show(*args, **kw)>"
      ]
     },
     "execution_count": 24,
     "metadata": {},
     "output_type": "execute_result"
    },
    {
     "data": {
      "image/png": "[encoded data removed]",
      "text/plain": [
       "<Figure size 720x360 with 1 Axes>"
      ]
     },
     "metadata": {
      "needs_background": "light"
     },
     "output_type": "display_data"
    }
   ],
   "source": [
    "plt.figure(figsize=(10,5))\n",
    "seaborn.countplot(x='race', data = data)\n",
    "plt.show()\n",
    "\n",
    "plt.figure(figsize=(10,5))\n",
    "seaborn.distplot(data['age'])\n",
    "plt.show"
   ]
  },
  {
   "cell_type": "code",
   "execution_count": 25,
   "metadata": {},
   "outputs": [
    {
     "data": {
      "image/png": "[encoded data removed]",
      "text/plain": [
       "<Figure size 1080x360 with 1 Axes>"
      ]
     },
     "metadata": {
      "needs_background": "light"
     },
     "output_type": "display_data"
    }
   ],
   "source": [
    "plt.figure(figsize=(15,5))\n",
    "seaborn.countplot(x='state', data = data)\n",
    "plt.show()"
   ]
  },
  {
   "cell_type": "code",
   "execution_count": 26,
   "metadata": {},
   "outputs": [],
   "source": [
    "data_date = pd.to_datetime(data['date'], format='%Y-%m-%d', errors='raise')\n",
    "data['year'] = data_date.dt.year\n",
    "data['month'] = data_date.dt.month\n",
    "data['day'] = data_date.dt.day"
   ]
  },
  {
   "cell_type": "markdown",
   "metadata": {},
   "source": [
    "캘린더에서 날짜 값들을 비교해서 적당하게 넣어준다."
   ]
  },
  {
   "cell_type": "code",
   "execution_count": 27,
   "metadata": {},
   "outputs": [
    {
     "data": {
      "image/png": "[encoded data removed]",
      "text/plain": [
       "<Figure size 1080x360 with 1 Axes>"
      ]
     },
     "metadata": {
      "needs_background": "light"
     },
     "output_type": "display_data"
    },
    {
     "data": {
      "image/png": "[encoded data removed]",
      "text/plain": [
       "<Figure size 1080x360 with 1 Axes>"
      ]
     },
     "metadata": {
      "needs_background": "light"
     },
     "output_type": "display_data"
    },
    {
     "data": {
      "image/png": "[encoded data removed]",
      "text/plain": [
       "<Figure size 1080x360 with 1 Axes>"
      ]
     },
     "metadata": {
      "needs_background": "light"
     },
     "output_type": "display_data"
    }
   ],
   "source": [
    "plt.figure(figsize=(15,5))\n",
    "seaborn.countplot(x=\"year\",data = data)\n",
    "plt.show()\n",
    "\n",
    "plt.figure(figsize=(15,5))\n",
    "seaborn.countplot(x=\"month\",data = data)\n",
    "plt.show()\n",
    "\n",
    "plt.figure(figsize=(15,5))\n",
    "seaborn.countplot(x=\"day\",data = data)\n",
    "plt.show()"
   ]
  },
  {
   "cell_type": "code",
   "execution_count": 28,
   "metadata": {},
   "outputs": [
    {
     "data": {
      "image/png": "[encoded data removed]",
      "text/plain": [
       "<Figure size 1440x1080 with 6 Axes>"
      ]
     },
     "metadata": {
      "needs_background": "light"
     },
     "output_type": "display_data"
    }
   ],
   "source": [
    "from sklearn.preprocessing import OrdinalEncoder\n",
    "from sklearn.preprocessing import OneHotEncoder\n",
    "import copy\n",
    "\n",
    "processed_data = copy.deepcopy(data)\n",
    "del processed_data['signs_of_mental_illness']\n",
    "del processed_data['body_camera']\n",
    "\n",
    "pd.DataFrame(processed_data)\n",
    "\n",
    "# ordinal_encoder = OrdinalEncoder()\n",
    "# onehot_encoder = OneHotEncoder()\n",
    "\n",
    "# p_race = pd.get_dummies(data['race'])\n",
    "# p_armed = pd.get_dummies(data['armed'])\n",
    "# p_flee = pd.get_dummies(data['flee'])\n",
    "# p_threat_level = pd.get_dummies(data['threat_level'])\n",
    "# processed_data['race'] = p_race\n",
    "# processed_data['armed'] = p_armed\n",
    "# processed_data['flee'] = p_flee\n",
    "# processed_data['threat_level'] = p_threat_level\n",
    "\n",
    "# encoded_signs_of_mental_illness = onehot_encoder.fit_transform(data['signs_of_mental_illness'])\n",
    "# encoded_body_camera = onehot_encoder.fit_transform(dtat['body_camera'])\n",
    "\n",
    "# processed_data = [data['name'],data['manner_of_death'],data['armed'],\\\n",
    "#                   data['age'],data['gender'],data['race'],data['city'],data['state'],\\\n",
    "#                  encoded_signs_of_mental_illness,data['threat_level'],data['flee'],\\\n",
    "#                  encoded_body_camera,data['year'],data['month'],data['date']]\n",
    "# processed_data = []\n",
    "\n",
    "# processed_data.append(data['name'])\n",
    "# processed_data.append(data['manner_of_death'])\n",
    "# processed_data.append(data['armed'])\n",
    "# processed_data.append(data['age'])\n",
    "# processed_data.append(data['gender'])\n",
    "# processed_data.append(data['race'])\n",
    "# processed_data.append(data['city'])\n",
    "# processed_data.append(data['state'])\n",
    "# processed_data.append(encoded_signs_of_mental_illness)\n",
    "# processed_data.append(data['threat_level'])\n",
    "# processed_data.append(data['flee'])\n",
    "# processed_data.append(encoded_body_camera)\n",
    "# processed_data.append(data['year'])\n",
    "# processed_data.append(data['month'])\n",
    "# processed_data.append(data['date'])\n",
    "processed_data.hist(bins=50, figsize=(20, 15))\n",
    "plt.show()"
   ]
  },
  {
   "cell_type": "markdown",
   "metadata": {},
   "source": [
    "bool타입이라 signs_of_mental_illness와, body_camera는 hist로 나타내지 못했다. 그래서 인코딩 해서 시각화 하려 했으나, 이것도 해결하지 못했다. 그래서 우선 데이터를 버리고 나머지 데이터들을 시각화 했다. 2020년이 다른 해들에 비해 범죄 수가 적은 이유는, 아직 2020년의 데이터가 모이지 않았기 때문이다. 여기서 다른 데이터들에 비해 특색이 있는 것은, month, age라고 판단 된다.\n",
    "\n",
    "-> 사이킷 런으로 하면 우선 label로 변환한 후, 진행해야 한다. pandas의 get_dummies()를 사용하면 간편함\n",
    "https://medium.com/@john_analyst/%EB%8D%B0%EC%9D%B4%ED%84%B0-%EC%A0%84%EC%B2%98%EB%A6%AC-%EB%A0%88%EC%9D%B4%EB%B8%94-%EC%9D%B8%EC%BD%94%EB%94%A9%EA%B3%BC-%EC%9B%90%ED%95%AB-%EC%9D%B8%EC%BD%94%EB%94%A9-f0220df21df1\n",
    "\n",
    "'utf-8' codec can't encode character '\\udc67' in position 1: surrogates not allowed\n",
    "에러가 발생. 커널이 계속 죽어버림..."
   ]
  },
  {
   "cell_type": "code",
   "execution_count": 32,
   "metadata": {},
   "outputs": [
    {
     "data": {
      "text/plain": [
       "array([[<matplotlib.axes._subplots.AxesSubplot object at 0x000001E693659608>,\n",
       "        <matplotlib.axes._subplots.AxesSubplot object at 0x000001E692FF5388>],\n",
       "       [<matplotlib.axes._subplots.AxesSubplot object at 0x000001E69300BA88>,\n",
       "        <matplotlib.axes._subplots.AxesSubplot object at 0x000001E693043748>]],\n",
       "      dtype=object)"
      ]
     },
     "execution_count": 32,
     "metadata": {},
     "output_type": "execute_result"
    },
    {
     "data": {
      "image/png": "[encoded data removed]",
      "text/plain": [
       "<Figure size 864x576 with 4 Axes>"
      ]
     },
     "metadata": {
      "needs_background": "light"
     },
     "output_type": "display_data"
    }
   ],
   "source": [
    "from pandas.plotting import scatter_matrix\n",
    "\n",
    "attribute = ['manner_of_death', 'age', 'month', 'armed']\n",
    "scatter_matrix(data[attribute], figsize = (12,8))"
   ]
  }
 ],
 "metadata": {
  "kernelspec": {
   "display_name": "Python 3",
   "language": "python",
   "name": "python3"
  },
  "language_info": {
   "codemirror_mode": {
    "name": "ipython",
    "version": 3
   },
   "file_extension": ".py",
   "mimetype": "text/x-python",
   "name": "python",
   "nbconvert_exporter": "python",
   "pygments_lexer": "ipython3",
   "version": "3.7.7"
  }
 },
 "nbformat": 4,
 "nbformat_minor": 4
}
